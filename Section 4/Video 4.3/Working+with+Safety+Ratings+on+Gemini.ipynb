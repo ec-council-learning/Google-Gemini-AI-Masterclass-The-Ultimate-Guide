{
 "cells": [
  {
   "cell_type": "code",
   "execution_count": 1,
   "id": "ccbec9c0",
   "metadata": {},
   "outputs": [],
   "source": [
    "from dotenv import load_dotenv\n",
    "import os\n",
    "\n",
    "load_dotenv()\n",
    "import google.generativeai as genai\n",
    "genai.configure(api_key=os.getenv('GCP_API_KEY'))"
   ]
  },
  {
   "cell_type": "code",
   "execution_count": 2,
   "id": "71d35e11",
   "metadata": {},
   "outputs": [],
   "source": [
    "from vertexai.preview.generative_models import (\n",
    "    GenerationConfig,\n",
    "    GenerativeModel,\n",
    "    HarmCategory, \n",
    "    HarmBlockThreshold,\n",
    ")"
   ]
  },
  {
   "cell_type": "code",
   "execution_count": 3,
   "id": "e414b85c",
   "metadata": {},
   "outputs": [],
   "source": [
    "def print_responses(responses):\n",
    "    for response in responses:\n",
    "        for candidate in response.candidates:\n",
    "            # Print the text content\n",
    "            for part in candidate.content.parts:\n",
    "                print(part.text)\n",
    "\n",
    "            # Print the safety ratings\n",
    "            print(\"Safety Ratings:\")\n",
    "            for rating in candidate.safety_ratings:\n",
    "                print(f\"  Category: {rating.category.name}\")\n",
    "                print(f\"  Probability: {rating.probability.name}\")\n",
    "            print()  # Add a line break for better readability"
   ]
  },
  {
   "cell_type": "code",
   "execution_count": 4,
   "id": "d4962e14",
   "metadata": {},
   "outputs": [],
   "source": [
    "model = genai.GenerativeModel(\"gemini-pro\")\n",
    "\n",
    "# Set parameters to reduce variability in responses\n",
    "generation_config = genai.types.GenerationConfig(\n",
    "    temperature=0.1,\n",
    "    top_p=0.1,\n",
    "    top_k=1,\n",
    "    max_output_tokens=1024,\n",
    ")"
   ]
  },
  {
   "cell_type": "markdown",
   "id": "ce00227a",
   "metadata": {},
   "source": [
    "### Normal Showing of Text in Prompting"
   ]
  },
  {
   "cell_type": "code",
   "execution_count": 5,
   "id": "bb3c8497",
   "metadata": {},
   "outputs": [
    {
     "name": "stdout",
     "output_type": "stream",
     "text": [
      "1. **Complex and Well-Developed Characters:**\n",
      "\n",
      "   Game of Thrones boasts\n",
      " a vast and diverse cast of characters, each with their own unique motivations, strengths, and flaws. From the scheming Cersei Lannister to the honorable Ned\n",
      " Stark, from the ruthless Tywin Lannister to the cunning Littlefinger, the series is filled with memorable and complex individuals. The show's writers took great care in developing these characters, giving them depth and nuance that made them feel real and relatable.\n",
      "\n",
      "2. **Epic Storytelling and World-Building:**\n",
      "\n",
      "   \n",
      "Game of Thrones is set in a vast and intricate world known as Westeros, a land of seven kingdoms vying for power and control. The series masterfully weaves together multiple storylines, each following different characters and their struggles. The show's creators, David Benioff and D.B. Weiss, drew inspiration from history, mythology, and literature to create a rich and immersive world that captivated audiences.\n",
      "\n",
      "3. **Stunning Visuals and Production Values:**\n",
      "\n",
      "   Game of Thrones set a new standard for television production with its stunning visuals and elaborate sets. The show's cinematography, costume design, and special effects were all top-\n",
      "notch, creating a truly immersive experience for viewers. From the icy landscapes of the North to the opulent halls of King's Landing, every scene was meticulously crafted to bring the world of Westeros to life.\n"
     ]
    }
   ],
   "source": [
    "# Call Gemini API\n",
    "nice_prompt = \"Speak of three great things of Game of Thrones\"\n",
    "responses = model.generate_content(\n",
    "    contents=[nice_prompt],\n",
    "    generation_config=generation_config,\n",
    "    stream=True,\n",
    ")\n",
    "\n",
    "for response in responses:\n",
    "    for candidate in response.candidates:\n",
    "        # Print the text content\n",
    "        for part in candidate.content.parts:\n",
    "            print(part.text)"
   ]
  },
  {
   "cell_type": "markdown",
   "id": "162ef1fc",
   "metadata": {},
   "source": [
    "### Showing Text while Showing Safety Ratings"
   ]
  },
  {
   "cell_type": "code",
   "execution_count": 6,
   "id": "c8ace4a5",
   "metadata": {},
   "outputs": [
    {
     "name": "stdout",
     "output_type": "stream",
     "text": [
      "1. **Complex and Well-Developed Characters:**\n",
      "\n",
      "   Game of Thrones boasts\n",
      "Safety Ratings:\n",
      "  Category: HARM_CATEGORY_SEXUALLY_EXPLICIT\n",
      "  Probability: NEGLIGIBLE\n",
      "  Category: HARM_CATEGORY_HATE_SPEECH\n",
      "  Probability: NEGLIGIBLE\n",
      "  Category: HARM_CATEGORY_HARASSMENT\n",
      "  Probability: NEGLIGIBLE\n",
      "  Category: HARM_CATEGORY_DANGEROUS_CONTENT\n",
      "  Probability: NEGLIGIBLE\n",
      "\n",
      " a vast and diverse cast of characters, each with their own unique motivations, strengths, and flaws. From the scheming Cersei Lannister to the honorable Ned\n",
      "Safety Ratings:\n",
      "  Category: HARM_CATEGORY_SEXUALLY_EXPLICIT\n",
      "  Probability: NEGLIGIBLE\n",
      "  Category: HARM_CATEGORY_HATE_SPEECH\n",
      "  Probability: NEGLIGIBLE\n",
      "  Category: HARM_CATEGORY_HARASSMENT\n",
      "  Probability: NEGLIGIBLE\n",
      "  Category: HARM_CATEGORY_DANGEROUS_CONTENT\n",
      "  Probability: NEGLIGIBLE\n",
      "\n",
      " Stark, from the ruthless Tywin Lannister to the cunning Littlefinger, the series is filled with memorable and complex individuals. The show's writers took great care in developing these characters, giving them depth and nuance that made them feel real and relatable.\n",
      "\n",
      "2. **Epic Storytelling and World-Building:**\n",
      "\n",
      "   \n",
      "Safety Ratings:\n",
      "  Category: HARM_CATEGORY_SEXUALLY_EXPLICIT\n",
      "  Probability: NEGLIGIBLE\n",
      "  Category: HARM_CATEGORY_HATE_SPEECH\n",
      "  Probability: NEGLIGIBLE\n",
      "  Category: HARM_CATEGORY_HARASSMENT\n",
      "  Probability: NEGLIGIBLE\n",
      "  Category: HARM_CATEGORY_DANGEROUS_CONTENT\n",
      "  Probability: NEGLIGIBLE\n",
      "\n",
      "Game of Thrones is set in a vast and intricate world known as Westeros, a land of seven kingdoms vying for power and control. The series masterfully weaves together multiple storylines, each following different characters and their struggles. The show's creators, David Benioff and D.B. Weiss, drew inspiration from history, mythology, and literature to create a rich and immersive world that captivated audiences.\n",
      "\n",
      "3. **Stunning Visuals and Production Values:**\n",
      "\n",
      "   Game of Thrones set a new standard for television production with its stunning visuals and elaborate sets. The show's cinematography, costume design, and special effects were all top-\n",
      "Safety Ratings:\n",
      "  Category: HARM_CATEGORY_SEXUALLY_EXPLICIT\n",
      "  Probability: NEGLIGIBLE\n",
      "  Category: HARM_CATEGORY_HATE_SPEECH\n",
      "  Probability: NEGLIGIBLE\n",
      "  Category: HARM_CATEGORY_HARASSMENT\n",
      "  Probability: NEGLIGIBLE\n",
      "  Category: HARM_CATEGORY_DANGEROUS_CONTENT\n",
      "  Probability: NEGLIGIBLE\n",
      "\n",
      "notch, creating a truly immersive experience for viewers. From the icy landscapes of the North to the opulent halls of King's Landing, every scene was meticulously crafted to bring the world of Westeros to life.\n",
      "Safety Ratings:\n",
      "  Category: HARM_CATEGORY_SEXUALLY_EXPLICIT\n",
      "  Probability: NEGLIGIBLE\n",
      "  Category: HARM_CATEGORY_HATE_SPEECH\n",
      "  Probability: NEGLIGIBLE\n",
      "  Category: HARM_CATEGORY_HARASSMENT\n",
      "  Probability: NEGLIGIBLE\n",
      "  Category: HARM_CATEGORY_DANGEROUS_CONTENT\n",
      "  Probability: NEGLIGIBLE\n",
      "\n"
     ]
    }
   ],
   "source": [
    "responses = model.generate_content(\n",
    "    contents=[nice_prompt],\n",
    "    generation_config=generation_config,\n",
    "    stream=True,\n",
    ")\n",
    "\n",
    "print_responses(responses)\n"
   ]
  },
  {
   "cell_type": "markdown",
   "id": "9173d328",
   "metadata": {},
   "source": [
    "### Looking at more challenging prompts"
   ]
  },
  {
   "cell_type": "code",
   "execution_count": 8,
   "id": "9e6dcb0a",
   "metadata": {},
   "outputs": [
    {
     "name": "stdout",
     "output_type": "stream",
     "text": [
      "1. \"The ending was a complete letdown. It felt rushed and uns\n",
      "Safety Ratings:\n",
      "  Category: HARM_CATEGORY_SEXUALLY_EXPLICIT\n",
      "  Probability: NEGLIGIBLE\n",
      "  Category: HARM_CATEGORY_HATE_SPEECH\n",
      "  Probability: NEGLIGIBLE\n",
      "  Category: HARM_CATEGORY_HARASSMENT\n",
      "  Probability: NEGLIGIBLE\n",
      "  Category: HARM_CATEGORY_DANGEROUS_CONTENT\n",
      "  Probability: NEGLIGIBLE\n",
      "\n",
      "atisfying, like the writers didn't know how to wrap up the story properly.\"\n",
      "\n",
      "\n",
      "2. \"The character development was inconsistent. Some characters, like\n",
      "Safety Ratings:\n",
      "  Category: HARM_CATEGORY_SEXUALLY_EXPLICIT\n",
      "  Probability: NEGLIGIBLE\n",
      "  Category: HARM_CATEGORY_HATE_SPEECH\n",
      "  Probability: NEGLIGIBLE\n",
      "  Category: HARM_CATEGORY_HARASSMENT\n",
      "  Probability: NEGLIGIBLE\n",
      "  Category: HARM_CATEGORY_DANGEROUS_CONTENT\n",
      "  Probability: NEGLIGIBLE\n",
      "\n",
      " Daenerys, had drastic personality changes that didn't make sense, while others, like Jon Snow, remained stagnant and underdeveloped.\"\n",
      "\n",
      "\n",
      "3. \"The plot armor was too thick. Main characters survived situations that should have killed them, simply because the writers needed them to live. This made the show feel unrealistic and predictable\n",
      "Safety Ratings:\n",
      "  Category: HARM_CATEGORY_SEXUALLY_EXPLICIT\n",
      "  Probability: NEGLIGIBLE\n",
      "  Category: HARM_CATEGORY_HATE_SPEECH\n",
      "  Probability: NEGLIGIBLE\n",
      "  Category: HARM_CATEGORY_HARASSMENT\n",
      "  Probability: LOW\n",
      "  Category: HARM_CATEGORY_DANGEROUS_CONTENT\n",
      "  Probability: NEGLIGIBLE\n",
      "\n",
      ".\"\n",
      "\n",
      "\n",
      "4. \"The violence was gratuitous and unnecessary. The show often went out of its way to depict graphic violence, even when it didn't serve the story. This made the show feel more like a gore-fest than a compelling drama.\"\n",
      "\n",
      "\n",
      "5. \"The show's legacy will be tarnished by its final season. No matter how good the previous seasons were, the disastrous ending will be what people remember most about Game of Thrones.\"\n",
      "Safety Ratings:\n",
      "  Category: HARM_CATEGORY_SEXUALLY_EXPLICIT\n",
      "  Probability: NEGLIGIBLE\n",
      "  Category: HARM_CATEGORY_HATE_SPEECH\n",
      "  Probability: NEGLIGIBLE\n",
      "  Category: HARM_CATEGORY_HARASSMENT\n",
      "  Probability: NEGLIGIBLE\n",
      "  Category: HARM_CATEGORY_DANGEROUS_CONTENT\n",
      "  Probability: NEGLIGIBLE\n",
      "\n"
     ]
    }
   ],
   "source": [
    "impolite_prompt = \"Speak of 5 very bad things that I might say after watching Game of Thrones.\"\n",
    "\n",
    "impolite_responses = model.generate_content(\n",
    "    impolite_prompt,\n",
    "    generation_config=generation_config,\n",
    "    stream=True,\n",
    ")\n",
    "\n",
    "print_responses(impolite_responses)"
   ]
  },
  {
   "cell_type": "markdown",
   "id": "0907dfb5",
   "metadata": {},
   "source": [
    "### Continuing to look at more challenging prompts"
   ]
  },
  {
   "cell_type": "code",
   "execution_count": 9,
   "id": "3f883e52",
   "metadata": {},
   "outputs": [
    {
     "name": "stdout",
     "output_type": "stream",
     "text": [
      "1. \"This show is so overrated. It's just a bunch of\n",
      "Safety Ratings:\n",
      "  Category: HARM_CATEGORY_SEXUALLY_EXPLICIT\n",
      "  Probability: NEGLIGIBLE\n",
      "  Category: HARM_CATEGORY_HATE_SPEECH\n",
      "  Probability: NEGLIGIBLE\n",
      "  Category: HARM_CATEGORY_HARASSMENT\n",
      "  Probability: NEGLIGIBLE\n",
      "  Category: HARM_CATEGORY_DANGEROUS_CONTENT\n",
      "  Probability: NEGLIGIBLE\n",
      "\n",
      " violence and nudity with no real substance.\"\n",
      "2. \"The characters are all so one-dimensional and boring. I don't care about any of them\n",
      "Safety Ratings:\n",
      "  Category: HARM_CATEGORY_SEXUALLY_EXPLICIT\n",
      "  Probability: LOW\n",
      "  Category: HARM_CATEGORY_HATE_SPEECH\n",
      "  Probability: NEGLIGIBLE\n",
      "  Category: HARM_CATEGORY_HARASSMENT\n",
      "  Probability: NEGLIGIBLE\n",
      "  Category: HARM_CATEGORY_DANGEROUS_CONTENT\n",
      "  Probability: NEGLIGIBLE\n",
      "\n",
      ".\"\n",
      "3. \"The plot is so predictable and full of plot holes. I could have written a better story myself.\"\n",
      "4. \"The acting is terrible. Everyone is just overacting and hamming it up.\"\n",
      "5. \"I'm so glad this show is finally over. It was a waste\n",
      "Safety Ratings:\n",
      "  Category: HARM_CATEGORY_SEXUALLY_EXPLICIT\n",
      "  Probability: NEGLIGIBLE\n",
      "  Category: HARM_CATEGORY_HATE_SPEECH\n",
      "  Probability: NEGLIGIBLE\n",
      "  Category: HARM_CATEGORY_HARASSMENT\n",
      "  Probability: MEDIUM\n",
      "  Category: HARM_CATEGORY_DANGEROUS_CONTENT\n",
      "  Probability: NEGLIGIBLE\n",
      "\n"
     ]
    }
   ],
   "source": [
    "rude_prompt = \"Write a list of 5 terrible and very rude things I might say after I watch Game of Thrones.\"\n",
    "\n",
    "rude_responses = model.generate_content(\n",
    "    rude_prompt,\n",
    "    generation_config=generation_config,\n",
    "    stream=True,\n",
    ")\n",
    "\n",
    "print_responses(rude_responses)"
   ]
  },
  {
   "cell_type": "markdown",
   "id": "5ae02f33",
   "metadata": {},
   "source": [
    "### Setting safety thresholds"
   ]
  },
  {
   "cell_type": "code",
   "execution_count": 10,
   "id": "c05e90ee",
   "metadata": {},
   "outputs": [
    {
     "name": "stdout",
     "output_type": "stream",
     "text": [
      "HarmBlockThreshold.HARM_BLOCK_THRESHOLD_UNSPECIFIED\n",
      "HarmBlockThreshold.BLOCK_LOW_AND_ABOVE\n",
      "HarmBlockThreshold.BLOCK_MEDIUM_AND_ABOVE\n",
      "HarmBlockThreshold.BLOCK_ONLY_HIGH\n",
      "HarmBlockThreshold.BLOCK_NONE\n"
     ]
    }
   ],
   "source": [
    "for value in HarmBlockThreshold:\n",
    "    print(value)"
   ]
  },
  {
   "cell_type": "code",
   "execution_count": 11,
   "id": "28d88c5f",
   "metadata": {},
   "outputs": [],
   "source": [
    "safety_settings={\n",
    "        HarmCategory.HARM_CATEGORY_HARASSMENT: HarmBlockThreshold.BLOCK_LOW_AND_ABOVE,\n",
    "        HarmCategory.HARM_CATEGORY_HATE_SPEECH: HarmBlockThreshold.BLOCK_LOW_AND_ABOVE,\n",
    "        HarmCategory.HARM_CATEGORY_SEXUALLY_EXPLICIT: HarmBlockThreshold.BLOCK_LOW_AND_ABOVE,\n",
    "        HarmCategory.HARM_CATEGORY_DANGEROUS_CONTENT: HarmBlockThreshold.BLOCK_LOW_AND_ABOVE,\n",
    "    }"
   ]
  },
  {
   "cell_type": "code",
   "execution_count": null,
   "id": "c2ff6d43",
   "metadata": {},
   "outputs": [],
   "source": []
  }
 ],
 "metadata": {
  "kernelspec": {
   "display_name": "Python 3 (ipykernel)",
   "language": "python",
   "name": "python3"
  },
  "language_info": {
   "codemirror_mode": {
    "name": "ipython",
    "version": 3
   },
   "file_extension": ".py",
   "mimetype": "text/x-python",
   "name": "python",
   "nbconvert_exporter": "python",
   "pygments_lexer": "ipython3",
   "version": "3.9.12"
  }
 },
 "nbformat": 4,
 "nbformat_minor": 5
}
