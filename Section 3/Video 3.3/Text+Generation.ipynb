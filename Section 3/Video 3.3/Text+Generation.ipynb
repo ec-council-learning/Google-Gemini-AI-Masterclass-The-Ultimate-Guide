{
 "cells": [
  {
   "cell_type": "code",
   "execution_count": 1,
   "id": "f1a264b4",
   "metadata": {},
   "outputs": [
    {
     "name": "stdout",
     "output_type": "stream",
     "text": [
      "Requirement already satisfied: google-generativeai in c:\\users\\renal\\appdata\\roaming\\python\\python39\\site-packages (0.3.1)\n",
      "Requirement already satisfied: protobuf in c:\\users\\renal\\anaconda3\\lib\\site-packages (from google-generativeai) (4.22.0)\n",
      "Requirement already satisfied: google-auth in c:\\users\\renal\\appdata\\roaming\\python\\python39\\site-packages (from google-generativeai) (2.25.2)\n",
      "Requirement already satisfied: google-ai-generativelanguage==0.4.0 in c:\\users\\renal\\appdata\\roaming\\python\\python39\\site-packages (from google-generativeai) (0.4.0)\n",
      "Requirement already satisfied: google-api-core in c:\\users\\renal\\anaconda3\\lib\\site-packages (from google-generativeai) (2.11.0)\n",
      "Requirement already satisfied: tqdm in c:\\users\\renal\\anaconda3\\lib\\site-packages (from google-generativeai) (4.64.0)\n",
      "Requirement already satisfied: proto-plus<2.0.0dev,>=1.22.3 in c:\\users\\renal\\appdata\\roaming\\python\\python39\\site-packages (from google-ai-generativelanguage==0.4.0->google-generativeai) (1.23.0)\n",
      "Requirement already satisfied: googleapis-common-protos<2.0dev,>=1.56.2 in c:\\users\\renal\\anaconda3\\lib\\site-packages (from google-api-core->google-generativeai) (1.57.0)\n",
      "Requirement already satisfied: requests<3.0.0dev,>=2.18.0 in c:\\users\\renal\\anaconda3\\lib\\site-packages (from google-api-core->google-generativeai) (2.27.1)\n",
      "Requirement already satisfied: grpcio-status<2.0dev,>=1.33.2 in c:\\users\\renal\\anaconda3\\lib\\site-packages (from google-api-core->google-generativeai) (1.53.0)\n",
      "Requirement already satisfied: grpcio<2.0dev,>=1.33.2 in c:\\users\\renal\\anaconda3\\lib\\site-packages (from google-api-core->google-generativeai) (1.53.0)\n",
      "Requirement already satisfied: pyasn1-modules>=0.2.1 in c:\\users\\renal\\anaconda3\\lib\\site-packages (from google-auth->google-generativeai) (0.2.8)\n",
      "Requirement already satisfied: cachetools<6.0,>=2.0.0 in c:\\users\\renal\\anaconda3\\lib\\site-packages (from google-auth->google-generativeai) (5.3.0)\n",
      "Requirement already satisfied: rsa<5,>=3.1.4 in c:\\users\\renal\\anaconda3\\lib\\site-packages (from google-auth->google-generativeai) (4.9)\n",
      "Requirement already satisfied: pyasn1<0.5.0,>=0.4.6 in c:\\users\\renal\\anaconda3\\lib\\site-packages (from pyasn1-modules>=0.2.1->google-auth->google-generativeai) (0.4.8)\n",
      "Requirement already satisfied: certifi>=2017.4.17 in c:\\users\\renal\\anaconda3\\lib\\site-packages (from requests<3.0.0dev,>=2.18.0->google-api-core->google-generativeai) (2021.10.8)\n",
      "Requirement already satisfied: idna<4,>=2.5 in c:\\users\\renal\\anaconda3\\lib\\site-packages (from requests<3.0.0dev,>=2.18.0->google-api-core->google-generativeai) (3.3)\n",
      "Requirement already satisfied: urllib3<1.27,>=1.21.1 in c:\\users\\renal\\anaconda3\\lib\\site-packages (from requests<3.0.0dev,>=2.18.0->google-api-core->google-generativeai) (1.26.9)\n",
      "Requirement already satisfied: charset-normalizer~=2.0.0 in c:\\users\\renal\\anaconda3\\lib\\site-packages (from requests<3.0.0dev,>=2.18.0->google-api-core->google-generativeai) (2.0.4)\n",
      "Requirement already satisfied: colorama in c:\\users\\renal\\anaconda3\\lib\\site-packages (from tqdm->google-generativeai) (0.4.4)\n"
     ]
    }
   ],
   "source": [
    "!pip3 install --upgrade --user google-generativeai"
   ]
  },
  {
   "cell_type": "code",
   "execution_count": 2,
   "id": "06b405a5",
   "metadata": {},
   "outputs": [
    {
     "name": "stdout",
     "output_type": "stream",
     "text": [
      "Requirement already satisfied: python-dotenv in c:\\users\\renal\\anaconda3\\lib\\site-packages (1.0.0)\n"
     ]
    }
   ],
   "source": [
    "!pip install python-dotenv"
   ]
  },
  {
   "cell_type": "code",
   "execution_count": 3,
   "id": "98921efd",
   "metadata": {},
   "outputs": [
    {
     "data": {
      "text/plain": [
       "{'status': 'ok', 'restart': True}"
      ]
     },
     "execution_count": 3,
     "metadata": {},
     "output_type": "execute_result"
    }
   ],
   "source": [
    "import IPython\n",
    "\n",
    "app = IPython.Application.instance()\n",
    "app.kernel.do_shutdown(True)"
   ]
  },
  {
   "cell_type": "code",
   "execution_count": 1,
   "id": "4733219b",
   "metadata": {},
   "outputs": [],
   "source": [
    "from dotenv import load_dotenv\n",
    "import os\n",
    "\n",
    "load_dotenv()\n",
    "import google.generativeai as genai\n",
    "genai.configure(api_key=os.getenv('GCP_API_KEY'))"
   ]
  },
  {
   "cell_type": "code",
   "execution_count": 2,
   "id": "5fbd31dd",
   "metadata": {},
   "outputs": [],
   "source": [
    "model = genai.GenerativeModel(\"gemini-pro\")"
   ]
  },
  {
   "cell_type": "code",
   "execution_count": 4,
   "id": "be9b6c75",
   "metadata": {},
   "outputs": [
    {
     "name": "stdout",
     "output_type": "stream",
     "text": [
      "1. **Cost Savings**:\n",
      "   - Reduced hardware and infrastructure costs: No need to purchase, maintain, and upgrade physical servers.\n",
      "   - Reduced IT staff costs: Cloud providers handle infrastructure management, freeing up IT staff for other tasks.\n",
      "   - Utility-based pricing: Pay only for the resources you use, eliminating upfront capital investments.\n",
      "   - Reduced power and cooling costs: Data centers are designed for energy efficiency.\n",
      "\n",
      "\n",
      "2. **Scalability**:\n",
      "   - Easily scale up or down based on demand: Add or remove resources quickly to meet changing needs.\n",
      "   - Handle sudden traffic spikes without performance degradation: Cloud infrastructure is designed to handle large volumes.\n",
      "\n",
      "\n",
      "3. **Reliability**:\n",
      "   - High availability and fault tolerance: Cloud providers have redundant systems and backup strategies to ensure uptime.\n",
      "   - Disaster recovery: Data is replicated across multiple data centers for protection against disasters.\n",
      "\n",
      "\n",
      "4. **Security**:\n",
      "   - Cloud providers have dedicated security teams and invest heavily in security measures: Data encryption, intrusion detection, and regular security audits.\n",
      "   - Compliance with industry standards: Many cloud providers are certified with industry-standard security certifications like ISO 27001, PCI DSS, and HIPAA.\n",
      "\n",
      "\n",
      "5. **Flexibility**:\n",
      "   - Access to a wide range of services: Cloud providers offer a variety of services, including storage, computing, networking, and databases.\n",
      "   - Hybrid cloud options: Combine on-premises and cloud environments to suit specific needs.\n",
      "   - Multi-cloud strategies: Work with multiple cloud providers to optimize costs, reduce vendor lock-in, and increase flexibility.\n",
      "\n",
      "\n",
      "6. **Innovation**:\n",
      "   - Access to the latest technologies: Cloud providers constantly innovate and introduce new features and services.\n",
      "   - Rapid deployment of new applications: Quickly provision and deploy new applications without the need for extensive on-premises infrastructure setup.\n",
      "\n",
      "\n",
      "7. **Remote Work Support**:\n",
      "   - Enable remote access to applications and data: Cloud-based applications can be accessed from anywhere with an internet connection, supporting remote workforces.\n",
      "\n",
      "\n",
      "8. **Improved Collaboration**:\n",
      "   - Facilitate collaboration and file sharing: Cloud-based tools enhance teamwork and enable real-time collaboration on projects.\n",
      "\n",
      "\n",
      "9. **Integration**:\n",
      "   - Seamless integration with other cloud services: Cloud services can easily integrate with each other, enabling a cohesive ecosystem of tools and applications.\n",
      "\n",
      "\n",
      "10. **Environmentally Friendly**:\n",
      "    - Reduced carbon footprint: Cloud data centers are designed to be energy-efficient, reducing environmental impact."
     ]
    }
   ],
   "source": [
    "responses = model.generate_content(\"Why should I move to the cloud from on-premises deployments?\", stream=False)\n",
    "\n",
    "for response in responses:\n",
    "    print(response.text, end=\"\")"
   ]
  },
  {
   "cell_type": "markdown",
   "id": "d19f41ef",
   "metadata": {},
   "source": [
    "### Working with Model Parameters"
   ]
  },
  {
   "cell_type": "code",
   "execution_count": 12,
   "id": "b735690f",
   "metadata": {},
   "outputs": [],
   "source": [
    "generation_config=genai.types.GenerationConfig(\n",
    "    temperature=0.5,\n",
    "    top_p=0.5,\n",
    "    top_k=32,\n",
    "    candidate_count=1,\n",
    "    max_output_tokens=500,\n",
    ")"
   ]
  },
  {
   "cell_type": "code",
   "execution_count": null,
   "id": "b834ec7e",
   "metadata": {},
   "outputs": [],
   "source": [
    "responses = model.generate_content(\n",
    "    \"Why should I move to the cloud from on-premises deployments?\",\n",
    "    generation_config=generation_config,\n",
    "    stream=True,\n",
    ")\n",
    "\n",
    "for response in responses:\n",
    "    print(response.text, end=\"\")"
   ]
  },
  {
   "cell_type": "markdown",
   "id": "4ff68ebb",
   "metadata": {},
   "source": [
    "### Chat Prompts with Gemini"
   ]
  },
  {
   "cell_type": "code",
   "execution_count": 15,
   "id": "d4f67dde",
   "metadata": {},
   "outputs": [
    {
     "name": "stdout",
     "output_type": "stream",
     "text": [
      "1. **\"Leadership in War: Essential Principles from History's Greatest Strategists\" by Andrew Roberts**: An exploration of leadership through the lives of great military leaders, including Alexander the Great, Julius Caesar, and Napoleon Bonaparte.\n",
      "\n",
      "2. **\"The 7 Habits of Highly Effective People\" by Stephen Covey**: A classic guide to self-improvement and leadership, emphasizing the importance of integrity, responsibility, and personal growth.\n",
      "\n",
      "3. **\"Good to Great: Why Some Companies Make the Leap...and Others Don't\" by Jim Collins**: A study of companies that made the transition from good to great, identifying the key factors that contributed to their success.\n",
      "\n",
      "4. **\"Emotional Intelligence 2.0\" by Travis Bradberry and Jean Greaves**: A practical guide to understanding and managing your emotions, with a focus on developing emotional intelligence for effective leadership.\n",
      "\n",
      "5. **\"The Five Dysfunctions of a Team: A Leadership Fable\" by Patrick Lencioni**: A fictional story that illustrates the five dysfunctions that can prevent a team from achieving its full potential, along with practical advice for overcoming them.\n",
      "\n",
      "6. **\"Leaders Eat Last: Why Some Teams Pull Together and Others Don't\" by Simon Sinek**: A discussion of the importance of creating a culture of trust and cooperation within a team, and how leaders can foster this environment.\n",
      "\n",
      "7. **\"The Servant Leader\" by Robert K. Greenleaf**: An exploration of the concept of servant leadership, where leaders prioritize the needs of their followers and help them achieve their full potential.\n",
      "\n",
      "8. **\"Primal Leadership: Unleashing the Power of Emotional Intelligence\" by Daniel Goleman, Richard Boyatzis, and Annie McKee**: A study of the importance of emotional intelligence in leadership, and how leaders can use it to create a positive and productive work environment.\n",
      "\n",
      "9. **\"The Innovator's Dilemma: When New Technologies Cause Great Firms to Fail\" by Clayton M. Christensen**: A discussion of how established companies can overcome the challenges of innovation and avoid being disrupted by new technologies.\n",
      "\n",
      "10. **\"The Power of Positive Leadership: How to Build a Culture of Confidence and Success\" by Jon Gordon**: A guide to developing a positive leadership style that inspires and motivates teams to achieve their goals."
     ]
    }
   ],
   "source": [
    "chat = model.start_chat()\n",
    "\n",
    "prompt = \"\"\"You are a book expert. I love reading books on leadership. Recommend me some based on that.\n",
    "\"\"\"\n",
    "\n",
    "responses = chat.send_message(prompt, stream=True)\n",
    "\n",
    "for response in responses:\n",
    "    print(response.text, end=\"\")"
   ]
  },
  {
   "cell_type": "code",
   "execution_count": 16,
   "id": "198c5c08",
   "metadata": {},
   "outputs": [
    {
     "name": "stdout",
     "output_type": "stream",
     "text": [
      "No, the books I recommended are not all from the same publisher. They are published by a variety of different publishers, including:\n",
      "\n",
      "* HarperCollins Leadership\n",
      "* Free Press\n",
      "* Portfolio\n",
      "* TalentSmart\n",
      "* Jossey-Bass\n",
      "* Penguin Books\n",
      "* Greenleaf Center for Servant-Leadership\n",
      "* Harvard Business Review Press\n",
      "* McGraw-Hill Education\n",
      "* John Wiley & Sons\n",
      "\n",
      "This reflects the diversity of perspectives and approaches to leadership that exist in the field. Each publisher has its own unique focus and style, and the books I selected represent a range of these perspectives.\n",
      "\n",
      "I hope this helps!"
     ]
    }
   ],
   "source": [
    "prompt = \"Are these books all from the same publisher?\"\n",
    "\n",
    "responses = chat.send_message(prompt, stream=True)\n",
    "\n",
    "for response in responses:\n",
    "    print(response.text, end=\"\")"
   ]
  },
  {
   "cell_type": "code",
   "execution_count": 17,
   "id": "3741ab69",
   "metadata": {},
   "outputs": [
    {
     "name": "stdout",
     "output_type": "stream",
     "text": [
      "[parts {\n",
      "  text: \"You are a book expert. I love reading books on leadership. Recommend me some based on that.\\n\"\n",
      "}\n",
      "role: \"user\"\n",
      ", parts {\n",
      "  text: \"1. **\\\"Leadership in War: Essential Principles from History\\'s Greatest Strategists\\\" by Andrew Roberts**: An exploration of leadership through the lives of great military leaders, including Alexander the Great, Julius Caesar, and Napoleon Bonaparte.\\n\\n2. **\\\"The 7 Habits of Highly Effective People\\\" by Stephen Covey**: A classic guide to self-improvement and leadership, emphasizing the importance of integrity, responsibility, and personal growth.\\n\\n3. **\\\"Good to Great: Why Some Companies Make the Leap...and Others Don\\'t\\\" by Jim Collins**: A study of companies that made the transition from good to great, identifying the key factors that contributed to their success.\\n\\n4. **\\\"Emotional Intelligence 2.0\\\" by Travis Bradberry and Jean Greaves**: A practical guide to understanding and managing your emotions, with a focus on developing emotional intelligence for effective leadership.\\n\\n5. **\\\"The Five Dysfunctions of a Team: A Leadership Fable\\\" by Patrick Lencioni**: A fictional story that illustrates the five dysfunctions that can prevent a team from achieving its full potential, along with practical advice for overcoming them.\\n\\n6. **\\\"Leaders Eat Last: Why Some Teams Pull Together and Others Don\\'t\\\" by Simon Sinek**: A discussion of the importance of creating a culture of trust and cooperation within a team, and how leaders can foster this environment.\\n\\n7. **\\\"The Servant Leader\\\" by Robert K. Greenleaf**: An exploration of the concept of servant leadership, where leaders prioritize the needs of their followers and help them achieve their full potential.\\n\\n8. **\\\"Primal Leadership: Unleashing the Power of Emotional Intelligence\\\" by Daniel Goleman, Richard Boyatzis, and Annie McKee**: A study of the importance of emotional intelligence in leadership, and how leaders can use it to create a positive and productive work environment.\\n\\n9. **\\\"The Innovator\\'s Dilemma: When New Technologies Cause Great Firms to Fail\\\" by Clayton M. Christensen**: A discussion of how established companies can overcome the challenges of innovation and avoid being disrupted by new technologies.\\n\\n10. **\\\"The Power of Positive Leadership: How to Build a Culture of Confidence and Success\\\" by Jon Gordon**: A guide to developing a positive leadership style that inspires and motivates teams to achieve their goals.\"\n",
      "}\n",
      "role: \"model\"\n",
      ", parts {\n",
      "  text: \"Are these books all from the same publisher?\"\n",
      "}\n",
      "role: \"user\"\n",
      ", parts {\n",
      "  text: \"No, the books I recommended are not all from the same publisher. They are published by a variety of different publishers, including:\\n\\n* HarperCollins Leadership\\n* Free Press\\n* Portfolio\\n* TalentSmart\\n* Jossey-Bass\\n* Penguin Books\\n* Greenleaf Center for Servant-Leadership\\n* Harvard Business Review Press\\n* McGraw-Hill Education\\n* John Wiley & Sons\\n\\nThis reflects the diversity of perspectives and approaches to leadership that exist in the field. Each publisher has its own unique focus and style, and the books I selected represent a range of these perspectives.\\n\\nI hope this helps!\"\n",
      "}\n",
      "role: \"model\"\n",
      "]\n"
     ]
    }
   ],
   "source": [
    "print(chat.history)"
   ]
  },
  {
   "cell_type": "markdown",
   "id": "d25b2cd2",
   "metadata": {},
   "source": [
    "### Generating Code with Gemini"
   ]
  },
  {
   "cell_type": "code",
   "execution_count": 23,
   "id": "04853532",
   "metadata": {},
   "outputs": [],
   "source": [
    "generation_config=genai.types.GenerationConfig(\n",
    "    temperature=0.5,\n",
    "    top_p=0.5,\n",
    "    top_k=32,\n",
    "    candidate_count=1,\n",
    "    max_output_tokens=1000,\n",
    ")"
   ]
  },
  {
   "cell_type": "code",
   "execution_count": 24,
   "id": "474d1b9d",
   "metadata": {},
   "outputs": [],
   "source": [
    "prompt = \"\"\"Generate me terraform code to deploy based on the following specifications.\n",
    "1. Cloud Provider: Google Cloud Platform (GCP)\n",
    "2. Resources:\n",
    "- Compute Engine instances: 3 n1-standard-1 instances\n",
    "- Cloud Storage: 1 bucket for backups\n",
    "- VPC: Custom network with 2 subnets in different regions\n",
    "3. Networking:\n",
    "- Cloud NAT for private subnet\n",
    "- Firewall rules allowing HTTP and internal traffic\n",
    "4. Security: IAM roles for Compute Engine access\n",
    "5. Database: Cloud SQL instance - PostgreSQL, db-custom-2-7680\n",
    "6. Regions: europe-west1 and us-central1 for the two subnets\n",
    "7. Auto-scaling: Managed instance group for Compute Engine with auto-scaling enabled\n",
    "8. Terraform State: Remote backend using GCP Cloud Storage\n",
    "9. Terraform Version: v0.15.1\n",
    "\"\"\""
   ]
  },
  {
   "cell_type": "code",
   "execution_count": 25,
   "id": "dbdb2ff2",
   "metadata": {},
   "outputs": [],
   "source": [
    "responses = model.generate_content(\n",
    "    prompt,\n",
    "    generation_config=generation_config,\n",
    "    stream=True,\n",
    ")"
   ]
  },
  {
   "cell_type": "code",
   "execution_count": 26,
   "id": "dc9ba24d",
   "metadata": {},
   "outputs": [
    {
     "name": "stdout",
     "output_type": "stream",
     "text": [
      "```\n",
      "# Define the Google Cloud Platform provider\n",
      "provider \"google\" {\n",
      "  project = \"your-project-id\"\n",
      "  region  = \"europe-west1\"\n",
      "}\n",
      "\n",
      "# Create a custom VPC network\n",
      "resource \"google_compute_network\" \"vpc\" {\n",
      "  name = \"custom-vpc\"\n",
      "}\n",
      "\n",
      "# Create two subnets in different regions\n",
      "resource \"google_compute_subnetwork\" \"subnet-europe\" {\n",
      "  name          = \"europe-subnet\"\n",
      "  region        = \"europe-west1\"\n",
      "  network       = google_compute_network.vpc.id\n",
      "  ip_cidr_range = \"10.0.0.0/24\"\n",
      "}\n",
      "\n",
      "resource \"google_compute_subnetwork\" \"subnet-us\" {\n",
      "  name          = \"us-subnet\"\n",
      "  region        = \"us-central1\"\n",
      "  network       = google_compute_network.vpc.id\n",
      "  ip_cidr_range = \"10.1.0.0/24\"\n",
      "}\n",
      "\n",
      "# Create a Cloud NAT gateway for the private subnet\n",
      "resource \"google_compute_router\" \"nat-gateway\" {\n",
      "  name            = \"nat-gateway\"\n",
      "  network         = google_compute_network.vpc.id\n",
      "  region          = \"us-central1\"\n",
      "  nats            = [\"nat-config\"]\n",
      "}\n",
      "\n",
      "resource \"google_compute_router_nat\" \"nat-config\" {\n",
      "  name           = \"nat-config\"\n",
      "  router         = google_compute_router.nat-gateway.id\n",
      "  nat_ip_allocate_option = \"AUTO_ONLY\"\n",
      "  source_subnetwork_ip_ranges_to_nat = [\"10.1.0.0/24\"]\n",
      "}\n",
      "\n",
      "# Create firewall rules for HTTP and internal traffic\n",
      "resource \"google_compute_firewall\" \"allow-http\" {\n",
      "  name    = \"allow-http\"\n",
      "  network = google_compute_network.vpc.id\n",
      "  allowed {\n",
      "    protocol = \"tcp\"\n",
      "    ports    = [\"80\"]\n",
      "  }\n",
      "  source_ranges = [\"0.0.0.0/0\"]\n",
      "  target_tags  = [\"web\"]\n",
      "}\n",
      "\n",
      "resource \"google_compute_firewall\" \"allow-internal\" {\n",
      "  name    = \"allow-internal\"\n",
      "  network = google_compute_network.vpc.id\n",
      "  allowed {\n",
      "    protocol = \"tcp\"\n",
      "    ports    = [\"22\", \"3306\"]\n",
      "  }\n",
      "  source_ranges = [\"10.0.0.0/8\", \"10.1.0.0/8\"]\n",
      "}\n",
      "\n",
      "# Create IAM roles for Compute Engine access\n",
      "resource \"google_iam_role\" \"compute_admin\" {\n",
      "  name = \"roles/compute.admin\"\n",
      "  title = \"Compute Engine Admin\"\n",
      "  description = \"Grants full access to Compute Engine resources.\"\n",
      "}\n",
      "\n",
      "resource \"google_iam_role\" \"compute_user\" {\n",
      "  name = \"roles/compute.user\"\n",
      "  title = \"Compute Engine User\"\n",
      "  description = \"Grants read-only access to Compute Engine resources.\"\n",
      "}\n",
      "\n",
      "# Create a Cloud SQL instance\n",
      "resource \"google_sql_database\" \"db-custom-2-7680\" {\n",
      "  name             = \"db-custom-2-7680\"\n",
      "  database_version = \"POSTGRES_14\"\n",
      "  tier             = \"db-custom-2-7680\"\n",
      "  region           = \"us-central1\"\n",
      "  settings {\n",
      "    storage_auto_increase = true\n",
      "    max_connections       = 100\n",
      "  }\n",
      "}\n",
      "\n",
      "# Create a managed instance group for Compute Engine with auto-scaling enabled\n",
      "resource \"google_compute_instance_group_manager\" \"managed-instance-group\" {\n",
      "  name           = \"managed-instance-group\"\n",
      "  base_instance_name = \"instance-1\"\n",
      "  zone            = \"us-central1-a\"\n",
      "  instance_template = google_compute_instance_template.instance_template.id\n",
      "  autoscaling {\n",
      "    min_num_replicas = 1\n",
      "    max_num_replicas = 3\n",
      "  }\n",
      "}\n",
      "\n",
      "resource \"google_compute_instance_template\" \"instance_template\" {\n",
      "  name = \"instance-template\"\n",
      "  machine_type = \"n1-standard-1\"\n",
      "  network_interfaces {\n",
      "    name = \"global/networks/default\"\n",
      "    subnetwork"
     ]
    }
   ],
   "source": [
    "for response in responses:\n",
    "    print(response.text, end=\"\")"
   ]
  },
  {
   "cell_type": "code",
   "execution_count": null,
   "id": "49fe7494",
   "metadata": {},
   "outputs": [],
   "source": []
  }
 ],
 "metadata": {
  "kernelspec": {
   "display_name": "Python 3 (ipykernel)",
   "language": "python",
   "name": "python3"
  },
  "language_info": {
   "codemirror_mode": {
    "name": "ipython",
    "version": 3
   },
   "file_extension": ".py",
   "mimetype": "text/x-python",
   "name": "python",
   "nbconvert_exporter": "python",
   "pygments_lexer": "ipython3",
   "version": "3.9.12"
  }
 },
 "nbformat": 4,
 "nbformat_minor": 5
}
